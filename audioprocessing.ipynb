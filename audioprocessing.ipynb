{
 "cells": [
  {
   "cell_type": "code",
   "execution_count": 1,
   "id": "0f7ce998",
   "metadata": {},
   "outputs": [
    {
     "name": "stdout",
     "output_type": "stream",
     "text": [
      "Requirement already satisfied: pipwin in c:\\users\\tanya\\anaconda3\\lib\\site-packages (0.5.2)\n",
      "Requirement already satisfied: docopt in c:\\users\\tanya\\anaconda3\\lib\\site-packages (from pipwin) (0.6.2)\n",
      "Requirement already satisfied: pySmartDL>=1.3.1 in c:\\users\\tanya\\anaconda3\\lib\\site-packages (from pipwin) (1.3.4)\n",
      "Requirement already satisfied: packaging in c:\\users\\tanya\\anaconda3\\lib\\site-packages (from pipwin) (21.3)\n",
      "Requirement already satisfied: requests in c:\\users\\tanya\\anaconda3\\lib\\site-packages (from pipwin) (2.28.1)\n",
      "Requirement already satisfied: pyprind in c:\\users\\tanya\\anaconda3\\lib\\site-packages (from pipwin) (2.11.3)\n",
      "Requirement already satisfied: beautifulsoup4>=4.9.0 in c:\\users\\tanya\\anaconda3\\lib\\site-packages (from pipwin) (4.11.1)\n",
      "Requirement already satisfied: js2py in c:\\users\\tanya\\anaconda3\\lib\\site-packages (from pipwin) (0.74)\n",
      "Requirement already satisfied: six in c:\\users\\tanya\\anaconda3\\lib\\site-packages (from pipwin) (1.16.0)\n",
      "Requirement already satisfied: soupsieve>1.2 in c:\\users\\tanya\\anaconda3\\lib\\site-packages (from beautifulsoup4>=4.9.0->pipwin) (2.3.1)\n",
      "Requirement already satisfied: pyjsparser>=2.5.1 in c:\\users\\tanya\\anaconda3\\lib\\site-packages (from js2py->pipwin) (2.7.1)\n",
      "Requirement already satisfied: tzlocal>=1.2 in c:\\users\\tanya\\anaconda3\\lib\\site-packages (from js2py->pipwin) (5.2)\n",
      "Requirement already satisfied: pyparsing!=3.0.5,>=2.0.2 in c:\\users\\tanya\\anaconda3\\lib\\site-packages (from packaging->pipwin) (3.0.9)\n",
      "Requirement already satisfied: idna<4,>=2.5 in c:\\users\\tanya\\anaconda3\\lib\\site-packages (from requests->pipwin) (3.3)\n",
      "Requirement already satisfied: charset-normalizer<3,>=2 in c:\\users\\tanya\\anaconda3\\lib\\site-packages (from requests->pipwin) (2.0.4)\n",
      "Requirement already satisfied: urllib3<1.27,>=1.21.1 in c:\\users\\tanya\\anaconda3\\lib\\site-packages (from requests->pipwin) (1.26.11)\n",
      "Requirement already satisfied: certifi>=2017.4.17 in c:\\users\\tanya\\anaconda3\\lib\\site-packages (from requests->pipwin) (2022.9.14)\n",
      "Requirement already satisfied: tzdata in c:\\users\\tanya\\anaconda3\\lib\\site-packages (from tzlocal>=1.2->js2py->pipwin) (2024.2)\n",
      "Requirement already satisfied: pyaudio in c:\\users\\tanya\\anaconda3\\lib\\site-packages (0.2.14)\n"
     ]
    }
   ],
   "source": [
    "import speech_recognition as sr\n",
    "import json\n",
    "import random\n",
    "import wave\n",
    "!pip install pipwin\n",
    "!pip install pyaudio\n",
    "import pyaudio\n",
    "import re"
   ]
  },
  {
   "cell_type": "markdown",
   "id": "d39307c6",
   "metadata": {},
   "source": [
    "## Recording the audio files "
   ]
  },
  {
   "cell_type": "code",
   "execution_count": 13,
   "id": "2a0cb98f",
   "metadata": {},
   "outputs": [],
   "source": [
    "def record_fixed_duration(duration=15, filename=\"temp_audio.wav\"):\n",
    "    \"\"\"Record audio for a fixed duration.\"\"\"\n",
    "    chunk = 1024  # Record in chunks\n",
    "    sample_format = pyaudio.paInt16  # 16 bits per sample\n",
    "    channels = 1\n",
    "    rate = 44100  # Sample rate\n",
    "\n",
    "    p = pyaudio.PyAudio()\n",
    "\n",
    "    print(\"Recording...\")\n",
    "    stream = p.open(format=sample_format,\n",
    "                    channels=channels,\n",
    "                    rate=rate,\n",
    "                    input=True,\n",
    "                    frames_per_buffer=chunk)\n",
    "\n",
    "    frames = []\n",
    "\n",
    "    # Loop for the specified duration\n",
    "    for _ in range(0, int(rate / chunk * duration)):\n",
    "        data = stream.read(chunk)\n",
    "        frames.append(data)\n",
    "\n",
    "    print(\"Recording stopped.\")\n",
    "    stream.stop_stream()\n",
    "    stream.close()\n",
    "    p.terminate()\n",
    "\n",
    "    # Save the recorded audio to a temporary file\n",
    "    with wave.open(filename, 'wb') as wf:\n",
    "        wf.setnchannels(channels)\n",
    "        wf.setsampwidth(p.get_sample_size(sample_format))\n",
    "        wf.setframerate(rate)\n",
    "        wf.writeframes(b''.join(frames))\n",
    "\n",
    "    return filename"
   ]
  },
  {
   "cell_type": "code",
   "execution_count": 14,
   "id": "8969b726",
   "metadata": {},
   "outputs": [],
   "source": [
    "def get_audio():\n",
    "    \"\"\"Record audio for a fixed duration and transcribe it.\"\"\"\n",
    "    rObject = sr.Recognizer()\n",
    "\n",
    "    # Record audio for a fixed 45 seconds\n",
    "    audio_file = record_fixed_duration(duration=15)\n",
    "\n",
    "    try:\n",
    "        # Use the speech recognizer to process the recorded audio file\n",
    "        with sr.AudioFile(audio_file) as source:\n",
    "            audio = rObject.record(source)\n",
    "\n",
    "        print(\"Recognizing...\")\n",
    "        text = rObject.recognize_google(audio, language='en-US')\n",
    "        \"\"\"print(\"You:\", text) \"\"\"\n",
    "        return text\n",
    "\n",
    "    except Exception as e:\n",
    "        \"\"\"print(\"Error:\", str(e))\"\"\"\n",
    "        return \"Could not understand your audio, please try again!\""
   ]
  },
  {
   "cell_type": "code",
   "execution_count": 4,
   "id": "6410d1a2",
   "metadata": {
    "scrolled": true
   },
   "outputs": [
    {
     "name": "stdout",
     "output_type": "stream",
     "text": [
      "Recording...\n",
      "Recording stopped.\n",
      "Recognizing...\n",
      "Good Morning Sir my domains include OS and painting music and DBMS SQL apart from that I am good in dancing as you can see the guidance really well and sometimes even I can find some very beautiful moves which most of the people find it very hard to do them but I am just so flexible because I do yoga daily so I find it very easy and very flexible to just world\n"
     ]
    }
   ],
   "source": [
    "text=get_audio()\n",
    "print(text)"
   ]
  },
  {
   "cell_type": "markdown",
   "id": "a0fb3090",
   "metadata": {},
   "source": [
    "### picking a randome question "
   ]
  },
  {
   "cell_type": "code",
   "execution_count": 5,
   "id": "3207cc66",
   "metadata": {},
   "outputs": [],
   "source": [
    "with open('questions.json','r') as file:\n",
    "    questions=json.load(file)"
   ]
  },
  {
   "cell_type": "code",
   "execution_count": 6,
   "id": "39d70ca3",
   "metadata": {},
   "outputs": [
    {
     "name": "stdout",
     "output_type": "stream",
     "text": [
      "Random Question: What is a Class and Object?\n"
     ]
    }
   ],
   "source": [
    "# Fetch a random question\n",
    "random_question = random.choice(questions)\n",
    "print(\"Random Question:\", random_question[\"question\"])\n"
   ]
  },
  {
   "cell_type": "markdown",
   "id": "8e58b2a9",
   "metadata": {},
   "source": [
    "### Finding the matching questions"
   ]
  },
  {
   "cell_type": "code",
   "execution_count": 7,
   "id": "af60ad1c",
   "metadata": {},
   "outputs": [],
   "source": [
    "# Check if transcribed text matches any keywords\n",
    "def match_questions_from_text(transcribed_text, questions):\n",
    "    \"\"\"\n",
    "    Match transcribed text against keywords in the questions data.\n",
    "    :param transcribed_text: The user's response as a string.\n",
    "    :param questions_data: List of questions with keywords and categories.\n",
    "    :return: List of matching questions with categories.\n",
    "    \"\"\"\n",
    "    words = set(re.findall(r'\\w+', transcribed_text.lower()))  # Tokenize and lowercase text\n",
    "    matches = []\n",
    "\n",
    "    for entry in questions:\n",
    "        if any(keyword in words for keyword in entry['keywords']):  # Match keywords\n",
    "            matches.append({\n",
    "                \"question\": entry['question'],\n",
    "                \"category\": entry['category']\n",
    "            })\n",
    "    \n",
    "    return matches"
   ]
  },
  {
   "cell_type": "code",
   "execution_count": 8,
   "id": "ee6990c0",
   "metadata": {
    "scrolled": true
   },
   "outputs": [],
   "source": [
    "transcribed_text = text\n",
    "\n"
   ]
  },
  {
   "cell_type": "code",
   "execution_count": 11,
   "id": "2eb81c87",
   "metadata": {},
   "outputs": [],
   "source": [
    "def get_matching_or_random_question(transcribed_text, questions):\n",
    "    # Find matches\n",
    "    matching_questions = match_questions_from_text(transcribed_text, questions)\n",
    "\n",
    "    # If matches found, pick a random question from the matched ones\n",
    "    if matching_questions:\n",
    "        return random.choice(matching_questions)['question']\n",
    "    else:\n",
    "        # Otherwise, pick a random question from the entire questions list\n",
    "        return random.choice(questions)['question']"
   ]
  },
  {
   "cell_type": "code",
   "execution_count": 12,
   "id": "071fd157",
   "metadata": {
    "scrolled": true
   },
   "outputs": [
    {
     "name": "stdout",
     "output_type": "stream",
     "text": [
      "What is DBMS and what is its utility? Explain RDBMS with examples.\n"
     ]
    }
   ],
   "source": [
    "print(get_matching_or_random_question(transcribed_text, questions))"
   ]
  },
  {
   "cell_type": "code",
   "execution_count": 18,
   "id": "9063f422",
   "metadata": {},
   "outputs": [
    {
     "name": "stdout",
     "output_type": "stream",
     "text": [
      "Good Morning Sir my domains include OS and painting music and DBMS SQL apart from that I am good in dancing as you can see the guidance really well and sometimes even I can find some very beautiful moves which most of the people find it very hard to do them but I am just so flexible because I do yoga daily so I find it very easy and very flexible to just world\n"
     ]
    }
   ],
   "source": [
    "print(transcribed_text)"
   ]
  },
  {
   "cell_type": "markdown",
   "id": "e627e755",
   "metadata": {},
   "source": [
    "# main process"
   ]
  },
  {
   "cell_type": "code",
   "execution_count": 20,
   "id": "7b51a498",
   "metadata": {},
   "outputs": [
    {
     "name": "stdout",
     "output_type": "stream",
     "text": [
      "Tell me about yourself\n",
      "Recording...\n",
      "Recording stopped.\n",
      "Recognizing...\n",
      "What is the difference between Artificial Intelligence, Machine Learning, and Deep Learning?\n",
      "Recording...\n",
      "Recording stopped.\n",
      "Recognizing...\n",
      "What are some real-life applications of Artificial Intelligence?\n",
      "Recording...\n",
      "Recording stopped.\n",
      "Recognizing...\n",
      "What is IPC? What are the different IPC mechanisms?\n",
      "Recording...\n",
      "Recording stopped.\n",
      "Recognizing...\n",
      "What's the main purpose of an OS? What are the different types of OS?\n",
      "Recording...\n",
      "Recording stopped.\n",
      "Recognizing...\n",
      "What is IPC? What are the different IPC mechanisms?\n"
     ]
    }
   ],
   "source": [
    "print(\"Tell me about yourself\")\n",
    "\n",
    "for _ in range(5):\n",
    "    text = get_audio()  # Capture audio/input in each iteration\n",
    "    if not text:  # Handle cases where no input is received\n",
    "        print(\"No input detected, using default question.\")\n",
    "        text = \"default text\"\n",
    "    transcribed_text = text\n",
    "    next_ques = get_matching_or_random_question(transcribed_text, questions)\n",
    "    print(next_ques)"
   ]
  }
 ],
 "metadata": {
  "kernelspec": {
   "display_name": "Python 3 (ipykernel)",
   "language": "python",
   "name": "python3"
  },
  "language_info": {
   "codemirror_mode": {
    "name": "ipython",
    "version": 3
   },
   "file_extension": ".py",
   "mimetype": "text/x-python",
   "name": "python",
   "nbconvert_exporter": "python",
   "pygments_lexer": "ipython3",
   "version": "3.9.13"
  }
 },
 "nbformat": 4,
 "nbformat_minor": 5
}
